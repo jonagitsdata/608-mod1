{
  "cells": [
    {
      "cell_type": "markdown",
      "metadata": {
        "id": "view-in-github",
        "colab_type": "text"
      },
      "source": [
        "<a href=\"https://colab.research.google.com/github/jonagitsdata/608-mod1/blob/main/quickstarts/Prompting.ipynb\" target=\"_parent\"><img src=\"https://colab.research.google.com/assets/colab-badge.svg\" alt=\"Open In Colab\"/></a>"
      ]
    },
    {
      "cell_type": "markdown",
      "metadata": {
        "id": "Tce3stUlHN0L"
      },
      "source": [
        "##### Copyright 2024 Google LLC."
      ]
    },
    {
      "cell_type": "code",
      "execution_count": null,
      "metadata": {
        "id": "tuOe1ymfHZPu"
      },
      "outputs": [],
      "source": [
        "# @title Licensed under the Apache License, Version 2.0 (the \"License\");\n",
        "# you may not use this file except in compliance with the License.\n",
        "# You may obtain a copy of the License at\n",
        "#\n",
        "# https://www.apache.org/licenses/LICENSE-2.0\n",
        "#\n",
        "# Unless required by applicable law or agreed to in writing, software\n",
        "# distributed under the License is distributed on an \"AS IS\" BASIS,\n",
        "# WITHOUT WARRANTIES OR CONDITIONS OF ANY KIND, either express or implied.\n",
        "# See the License for the specific language governing permissions and\n",
        "# limitations under the License."
      ]
    },
    {
      "cell_type": "markdown",
      "metadata": {
        "id": "yeadDkMiISin"
      },
      "source": [
        "# Gemini API: Prompting Quickstart\n",
        "\n",
        "<table align=\"left\">\n",
        "  <td>\n",
        "    <a target=\"_blank\" href=\"https://colab.research.google.com/github/google-gemini/cookbook/blob/main/quickstarts/Prompting.ipynb\"><img src=\"https://github.com/google-gemini/cookbook/blob/main/images/colab_logo_32px.png?raw=1\" />Run in Google Colab</a>\n",
        "  </td>\n",
        "</table>"
      ]
    },
    {
      "cell_type": "markdown",
      "metadata": {
        "id": "dpOYALec6N8Z"
      },
      "source": [
        "This notebook contains examples of how to write and run your first prompts with the Gemini API."
      ]
    },
    {
      "cell_type": "code",
      "execution_count": null,
      "metadata": {
        "id": "0c13de5f68f6"
      },
      "outputs": [],
      "source": [
        "!pip install -U -q \"google-generativeai>=0.7.2\" # Install the Python SDK"
      ]
    },
    {
      "cell_type": "code",
      "execution_count": null,
      "metadata": {
        "id": "TS9l5igubpHO"
      },
      "outputs": [],
      "source": [
        "import google.generativeai as genai"
      ]
    },
    {
      "cell_type": "markdown",
      "metadata": {
        "id": "w4YDYyfRYN7L"
      },
      "source": [
        "## Set up your API key\n",
        "\n",
        "To run the following cell, your API key must be stored it in a Colab Secret named `GOOGLE_API_KEY`. If you don't already have an API key, or you're not sure how to create a Colab Secret, see the [Authentication](https://github.com/google-gemini/cookbook/blob/main/quickstarts/Authentication.ipynb) quickstart for an example."
      ]
    },
    {
      "cell_type": "code",
      "execution_count": null,
      "metadata": {
        "id": "p8K1RpmMfh20",
        "outputId": "b4fa4a76-6e5b-4836-9b73-95c49c15985a",
        "colab": {
          "base_uri": "https://localhost:8080/",
          "height": 305
        }
      },
      "outputs": [
        {
          "output_type": "error",
          "ename": "SecretNotFoundError",
          "evalue": "Secret GOOGLE_API_KEY does not exist.",
          "traceback": [
            "\u001b[0;31m---------------------------------------------------------------------------\u001b[0m",
            "\u001b[0;31mSecretNotFoundError\u001b[0m                       Traceback (most recent call last)",
            "\u001b[0;32m<ipython-input-11-9f9de617ffc0>\u001b[0m in \u001b[0;36m<cell line: 2>\u001b[0;34m()\u001b[0m\n\u001b[1;32m      1\u001b[0m \u001b[0;32mfrom\u001b[0m \u001b[0mgoogle\u001b[0m\u001b[0;34m.\u001b[0m\u001b[0mcolab\u001b[0m \u001b[0;32mimport\u001b[0m \u001b[0muserdata\u001b[0m\u001b[0;34m\u001b[0m\u001b[0;34m\u001b[0m\u001b[0m\n\u001b[0;32m----> 2\u001b[0;31m \u001b[0mGOOGLE_API_KEY\u001b[0m\u001b[0;34m=\u001b[0m\u001b[0muserdata\u001b[0m\u001b[0;34m.\u001b[0m\u001b[0mget\u001b[0m\u001b[0;34m(\u001b[0m\u001b[0;34m'GOOGLE_API_KEY'\u001b[0m\u001b[0;34m)\u001b[0m\u001b[0;34m\u001b[0m\u001b[0;34m\u001b[0m\u001b[0m\n\u001b[0m\u001b[1;32m      3\u001b[0m \u001b[0mgenai\u001b[0m\u001b[0;34m.\u001b[0m\u001b[0mconfigure\u001b[0m\u001b[0;34m(\u001b[0m\u001b[0mapi_key\u001b[0m\u001b[0;34m=\u001b[0m\u001b[0mGOOGLE_API_KEY\u001b[0m\u001b[0;34m)\u001b[0m\u001b[0;34m\u001b[0m\u001b[0;34m\u001b[0m\u001b[0m\n",
            "\u001b[0;32m/usr/local/lib/python3.10/dist-packages/google/colab/userdata.py\u001b[0m in \u001b[0;36mget\u001b[0;34m(key)\u001b[0m\n\u001b[1;32m     66\u001b[0m     \u001b[0;32mraise\u001b[0m \u001b[0mTimeoutException\u001b[0m\u001b[0;34m(\u001b[0m\u001b[0mkey\u001b[0m\u001b[0;34m)\u001b[0m\u001b[0;34m\u001b[0m\u001b[0;34m\u001b[0m\u001b[0m\n\u001b[1;32m     67\u001b[0m   \u001b[0;32mif\u001b[0m \u001b[0;32mnot\u001b[0m \u001b[0mresp\u001b[0m\u001b[0;34m.\u001b[0m\u001b[0mget\u001b[0m\u001b[0;34m(\u001b[0m\u001b[0;34m'exists'\u001b[0m\u001b[0;34m,\u001b[0m \u001b[0;32mFalse\u001b[0m\u001b[0;34m)\u001b[0m\u001b[0;34m:\u001b[0m\u001b[0;34m\u001b[0m\u001b[0;34m\u001b[0m\u001b[0m\n\u001b[0;32m---> 68\u001b[0;31m     \u001b[0;32mraise\u001b[0m \u001b[0mSecretNotFoundError\u001b[0m\u001b[0;34m(\u001b[0m\u001b[0mkey\u001b[0m\u001b[0;34m)\u001b[0m\u001b[0;34m\u001b[0m\u001b[0;34m\u001b[0m\u001b[0m\n\u001b[0m\u001b[1;32m     69\u001b[0m   \u001b[0;32mif\u001b[0m \u001b[0;32mnot\u001b[0m \u001b[0mresp\u001b[0m\u001b[0;34m.\u001b[0m\u001b[0mget\u001b[0m\u001b[0;34m(\u001b[0m\u001b[0;34m'access'\u001b[0m\u001b[0;34m,\u001b[0m \u001b[0;32mFalse\u001b[0m\u001b[0;34m)\u001b[0m\u001b[0;34m:\u001b[0m\u001b[0;34m\u001b[0m\u001b[0;34m\u001b[0m\u001b[0m\n\u001b[1;32m     70\u001b[0m     \u001b[0;32mraise\u001b[0m \u001b[0mNotebookAccessError\u001b[0m\u001b[0;34m(\u001b[0m\u001b[0mkey\u001b[0m\u001b[0;34m)\u001b[0m\u001b[0;34m\u001b[0m\u001b[0;34m\u001b[0m\u001b[0m\n",
            "\u001b[0;31mSecretNotFoundError\u001b[0m: Secret GOOGLE_API_KEY does not exist."
          ]
        }
      ],
      "source": [
        "from google.colab import userdata\n",
        "GOOGLE_API_KEY=userdata.get('GOOGLE_API_KEY')\n",
        "genai.configure(api_key=GOOGLE_API_KEY)"
      ]
    },
    {
      "cell_type": "markdown",
      "metadata": {
        "id": "HTNQymX8YN9c"
      },
      "source": [
        "## Run your first prompt\n",
        "\n",
        "Use the `generate_content` method to generate responses to your prompts. You can pass text directly to generate_content, and use the `.text` property to get the text content of the response."
      ]
    },
    {
      "cell_type": "code",
      "execution_count": null,
      "metadata": {
        "id": "XSuyaGmcf6sr"
      },
      "outputs": [],
      "source": [
        "model = genai.GenerativeModel('gemini-1.5-flash')\n",
        "response = model.generate_content(\"Give me python code to sort a list\")\n",
        "print(response.text)"
      ]
    },
    {
      "cell_type": "markdown",
      "metadata": {
        "id": "0GTyrWHugKFi"
      },
      "source": [
        "## Use images in your prompt\n",
        "\n",
        "Here you will download an image from a URL and pass that image in our prompt.\n",
        "\n",
        "First, you download the image and load it with PIL:"
      ]
    },
    {
      "cell_type": "code",
      "execution_count": null,
      "metadata": {
        "id": "JgbFtil0gLNf"
      },
      "outputs": [],
      "source": [
        "!curl -o image.jpg \"https://storage.googleapis.com/generativeai-downloads/images/jetpack.jpg\""
      ]
    },
    {
      "cell_type": "code",
      "execution_count": null,
      "metadata": {
        "id": "0rcYDbcDga8s"
      },
      "outputs": [],
      "source": [
        "import PIL.Image\n",
        "img = PIL.Image.open('image.jpg')\n",
        "img"
      ]
    },
    {
      "cell_type": "code",
      "execution_count": null,
      "metadata": {
        "id": "UTgRAmEHOaAz"
      },
      "outputs": [],
      "source": [
        "prompt = \"\"\"This image contains a sketch of a potential product along with some notes.\n",
        "Given the product sketch, describe the product as thoroughly as possible based on what you\n",
        "see in the image, making sure to note all of the product features. Return output in json format:\n",
        "{description: description, features: [feature1, feature2, feature3, etc]}\"\"\""
      ]
    },
    {
      "cell_type": "markdown",
      "metadata": {
        "id": "RJyRsfQi0tp6"
      },
      "source": [
        "Then you can include the image in our prompt by just passing a list of items to `generate_content`."
      ]
    },
    {
      "cell_type": "code",
      "execution_count": null,
      "metadata": {
        "id": "Aoil5YiTgbZS"
      },
      "outputs": [],
      "source": [
        "model = genai.GenerativeModel('gemini-1.5-flash')\n",
        "response = model.generate_content([prompt, img])\n",
        "print(response.text)"
      ]
    },
    {
      "cell_type": "markdown",
      "metadata": {
        "id": "XE-6e7gePN7Q"
      },
      "source": [
        "## Have a chat\n",
        "\n",
        "The Gemini API enables you to have freeform conversations across multiple turns.\n",
        "\n",
        "The [ChatSession](https://ai.google.dev/api/python/google/generativeai/ChatSession) class will store the conversation history for multi-turn interactions."
      ]
    },
    {
      "cell_type": "code",
      "execution_count": null,
      "metadata": {
        "id": "ZKAtY5oIPQW0"
      },
      "outputs": [],
      "source": [
        "model = genai.GenerativeModel('gemini-1.5-flash')\n",
        "chat = model.start_chat(history=[])"
      ]
    },
    {
      "cell_type": "code",
      "execution_count": null,
      "metadata": {
        "id": "9tXNVnqxPcXy"
      },
      "outputs": [],
      "source": [
        "response = chat.send_message(\"In one sentence, explain how a computer works to a young child.\")\n",
        "print(response.text)"
      ]
    },
    {
      "cell_type": "markdown",
      "metadata": {
        "id": "7TChH2l5PhFf"
      },
      "source": [
        "You can see the chat history:"
      ]
    },
    {
      "cell_type": "code",
      "execution_count": null,
      "metadata": {
        "id": "dHwrC82YPiWS"
      },
      "outputs": [],
      "source": [
        "print(chat.history)"
      ]
    },
    {
      "cell_type": "markdown",
      "metadata": {
        "id": "EvHvt1OEPl7D"
      },
      "source": [
        "You can keep sending messages to continue the conversation:"
      ]
    },
    {
      "cell_type": "code",
      "execution_count": null,
      "metadata": {
        "id": "-fXZZQPzPkie"
      },
      "outputs": [],
      "source": [
        "response = chat.send_message(\"Okay, how about a more detailed explanation to a high schooler?\")\n",
        "print(response.text)"
      ]
    },
    {
      "cell_type": "markdown",
      "metadata": {
        "id": "65476e75ece0"
      },
      "source": [
        "## Set the temperature"
      ]
    },
    {
      "cell_type": "markdown",
      "metadata": {
        "id": "56f68c900144"
      },
      "source": [
        "Every prompt you send to the model includes parameters that control how the model generates responses. Use a `genai.GenerationConfig` to set these, or omit it to use the defaults.\n",
        "\n",
        "Temperature controls the degree of randomness in token selection. Use higher values for more creative responses, and lower values for more deterministic responses.\n",
        "\n",
        "You can set the `generation_config` when creating the model."
      ]
    },
    {
      "cell_type": "code",
      "execution_count": null,
      "metadata": {
        "id": "28477e706226"
      },
      "outputs": [],
      "source": [
        "model = genai.GenerativeModel(\n",
        "    'gemini-1.5-flash',\n",
        "    generation_config=genai.GenerationConfig(\n",
        "        max_output_tokens=2000,\n",
        "        temperature=0.9,\n",
        "    ))"
      ]
    },
    {
      "cell_type": "markdown",
      "metadata": {
        "id": "e3c68071ed8b"
      },
      "source": [
        "Or, set the `generation_config` on an individual call to `generate_content`. Any values set there override values on the model constructor.\n",
        "\n",
        "Note: Although you can set the `candidate_count` in the generation_config, gemini-pro models will only return a single candidate at the this time."
      ]
    },
    {
      "cell_type": "code",
      "execution_count": null,
      "metadata": {
        "id": "f895c7f55b30"
      },
      "outputs": [],
      "source": [
        "response = model.generate_content(\n",
        "    'Give me a numbered list of cat facts.',\n",
        "    # Limit to 5 facts.\n",
        "    generation_config = genai.GenerationConfig(stop_sequences=['\\n6'])\n",
        ")"
      ]
    },
    {
      "cell_type": "code",
      "execution_count": null,
      "metadata": {
        "id": "c97c16e6a961"
      },
      "outputs": [],
      "source": [
        "print(response.text)"
      ]
    },
    {
      "cell_type": "code",
      "source": [
        "print(\"hello world!\")"
      ],
      "metadata": {
        "id": "lZNb0CAUh8aC",
        "outputId": "899e11bd-21f8-42f4-c2b0-2784ac8dbf0c",
        "colab": {
          "base_uri": "https://localhost:8080/"
        }
      },
      "execution_count": null,
      "outputs": [
        {
          "output_type": "stream",
          "name": "stdout",
          "text": [
            "hello world!\n"
          ]
        }
      ]
    },
    {
      "cell_type": "markdown",
      "metadata": {
        "id": "gvkDhXtHgol7"
      },
      "source": [
        "## Learn more\n",
        "\n",
        "There's lots more to learn!\n",
        "\n",
        "* For more fun prompts, check out [Market a Jetpack](https://github.com/google-gemini/cookbook/blob/main/examples/Market_a_Jet_Backpack.ipynb).\n",
        "* Check out the [safety quickstart](https://github.com/google-gemini/cookbook/blob/main/quickstarts/Safety.ipynb) next to learn about the Gemini API's configurable safety settings, and what to do if your prompt is blocked.\n",
        "* For lots more details on using the Python SDK, check out this [detailed quickstart](https://ai.google.dev/tutorials/python_quickstart)."
      ]
    },
    {
      "cell_type": "code",
      "source": [
        "a = 5\n",
        "print(a)"
      ],
      "metadata": {
        "id": "CrtpLkHAiDGs",
        "outputId": "e3fb4461-04c9-46b3-cd04-3e9462cdb1ab",
        "colab": {
          "base_uri": "https://localhost:8080/"
        }
      },
      "execution_count": null,
      "outputs": [
        {
          "output_type": "stream",
          "name": "stdout",
          "text": [
            "5\n"
          ]
        }
      ]
    },
    {
      "cell_type": "code",
      "source": [
        "help(\"keywords\")"
      ],
      "metadata": {
        "id": "fJGiczXsiKJX",
        "outputId": "21f747d2-0a61-47ca-c064-7c6dbbbec7b8",
        "colab": {
          "base_uri": "https://localhost:8080/"
        }
      },
      "execution_count": null,
      "outputs": [
        {
          "output_type": "stream",
          "name": "stdout",
          "text": [
            "\n",
            "Here is a list of the Python keywords.  Enter any keyword to get more help.\n",
            "\n",
            "False               class               from                or\n",
            "None                continue            global              pass\n",
            "True                def                 if                  raise\n",
            "and                 del                 import              return\n",
            "as                  elif                in                  try\n",
            "assert              else                is                  while\n",
            "async               except              lambda              with\n",
            "await               finally             nonlocal            yield\n",
            "break               for                 not                 \n",
            "\n"
          ]
        }
      ]
    },
    {
      "cell_type": "code",
      "source": [
        "#Integers\n",
        "number = 24\n",
        "print(number)"
      ],
      "metadata": {
        "id": "VVdyDq78liAu",
        "outputId": "f81f156c-0559-4716-9f8e-4bf7ddfb0032",
        "colab": {
          "base_uri": "https://localhost:8080/"
        }
      },
      "execution_count": null,
      "outputs": [
        {
          "output_type": "stream",
          "name": "stdout",
          "text": [
            "24\n"
          ]
        }
      ]
    },
    {
      "cell_type": "code",
      "source": [
        "#type\n",
        "a = 23\n",
        "print(type(a))\n",
        "print(a)"
      ],
      "metadata": {
        "id": "AUXD65cWlnQG",
        "outputId": "c55ba02c-2b60-4cc4-cdb2-3823e724c996",
        "colab": {
          "base_uri": "https://localhost:8080/"
        }
      },
      "execution_count": null,
      "outputs": [
        {
          "output_type": "stream",
          "name": "stdout",
          "text": [
            "<class 'int'>\n",
            "23\n"
          ]
        }
      ]
    },
    {
      "cell_type": "code",
      "source": [
        "print(type(\"a\"))\n",
        "print(\"a\")"
      ],
      "metadata": {
        "id": "nD0WlUxol9YX",
        "outputId": "060dd8c1-29a4-42d9-bdac-b85feb7b4fa7",
        "colab": {
          "base_uri": "https://localhost:8080/"
        }
      },
      "execution_count": null,
      "outputs": [
        {
          "output_type": "stream",
          "name": "stdout",
          "text": [
            "<class 'str'>\n",
            "a\n"
          ]
        }
      ]
    },
    {
      "cell_type": "code",
      "source": [
        "n = None\n",
        "print(type(n))\n",
        "print(n)"
      ],
      "metadata": {
        "id": "TY7RPLlar4ZR",
        "outputId": "5c21d3af-49ba-43c5-abdd-98de48becc89",
        "colab": {
          "base_uri": "https://localhost:8080/"
        }
      },
      "execution_count": null,
      "outputs": [
        {
          "output_type": "stream",
          "name": "stdout",
          "text": [
            "<class 'NoneType'>\n",
            "None\n"
          ]
        }
      ]
    },
    {
      "cell_type": "code",
      "source": [
        "#Input using input function\n",
        "name = input()\n"
      ],
      "metadata": {
        "id": "NrdQKhn1wSh7",
        "outputId": "4b1d7536-8c07-4e6f-ab69-c597d8cfd326",
        "colab": {
          "base_uri": "https://localhost:8080/"
        }
      },
      "execution_count": null,
      "outputs": [
        {
          "name": "stdout",
          "output_type": "stream",
          "text": [
            "Jona\n"
          ]
        }
      ]
    },
    {
      "cell_type": "code",
      "source": [
        "print(name)\n",
        "print(type(name))"
      ],
      "metadata": {
        "id": "cyBPm_TCwZvF",
        "outputId": "07974d2a-c6c5-461d-d3f7-a59e07aaeda6",
        "colab": {
          "base_uri": "https://localhost:8080/"
        }
      },
      "execution_count": null,
      "outputs": [
        {
          "output_type": "stream",
          "name": "stdout",
          "text": [
            "Jona\n",
            "<class 'str'>\n"
          ]
        }
      ]
    },
    {
      "cell_type": "code",
      "source": [
        "# Number as Input\n",
        "x = input()\n",
        "\n",
        "\n"
      ],
      "metadata": {
        "id": "ha_OeEV20vTo",
        "outputId": "7d1214fb-e925-42bb-a175-67ec9b319b45",
        "colab": {
          "base_uri": "https://localhost:8080/"
        }
      },
      "execution_count": null,
      "outputs": [
        {
          "name": "stdout",
          "output_type": "stream",
          "text": [
            "1.5\n"
          ]
        }
      ]
    },
    {
      "cell_type": "code",
      "source": [
        "print(x)\n",
        "print(type(x))"
      ],
      "metadata": {
        "id": "TIC8L9Ec1mUN",
        "outputId": "92c1dbb8-5b74-4873-8db6-be123486835f",
        "colab": {
          "base_uri": "https://localhost:8080/"
        }
      },
      "execution_count": null,
      "outputs": [
        {
          "output_type": "stream",
          "name": "stdout",
          "text": [
            "1.5\n",
            "<class 'str'>\n"
          ]
        }
      ]
    },
    {
      "cell_type": "code",
      "source": [
        "#Type Conversion x = float(),string(),integer(),\n",
        "x\n",
        "\n"
      ],
      "metadata": {
        "id": "eJY4aRZ11pSP",
        "outputId": "2b7bc7c1-58df-461a-c4e2-b9632a605b0e",
        "colab": {
          "base_uri": "https://localhost:8080/",
          "height": 35
        }
      },
      "execution_count": null,
      "outputs": [
        {
          "output_type": "execute_result",
          "data": {
            "text/plain": [
              "'1.5'"
            ],
            "application/vnd.google.colaboratory.intrinsic+json": {
              "type": "string"
            }
          },
          "metadata": {},
          "execution_count": 34
        }
      ]
    },
    {
      "cell_type": "code",
      "source": [
        "y = float(x)"
      ],
      "metadata": {
        "id": "SHtcwc6v2RNz"
      },
      "execution_count": null,
      "outputs": []
    },
    {
      "cell_type": "code",
      "source": [
        "print(y)\n",
        "print(type(y))"
      ],
      "metadata": {
        "id": "7e8nUJIb2ZiJ",
        "outputId": "30591f38-ecaf-4099-9ee7-f995ccfe55a8",
        "colab": {
          "base_uri": "https://localhost:8080/"
        }
      },
      "execution_count": null,
      "outputs": [
        {
          "output_type": "stream",
          "name": "stdout",
          "text": [
            "1.5\n",
            "<class 'float'>\n"
          ]
        }
      ]
    },
    {
      "cell_type": "code",
      "source": [
        "type(\"1.5\")\n"
      ],
      "metadata": {
        "id": "wcXq5i0a2f7t",
        "outputId": "c877e701-ba17-4951-8b1c-e59d6cbdb5d6",
        "colab": {
          "base_uri": "https://localhost:8080/"
        }
      },
      "execution_count": null,
      "outputs": [
        {
          "output_type": "execute_result",
          "data": {
            "text/plain": [
              "str"
            ]
          },
          "metadata": {},
          "execution_count": 37
        }
      ]
    },
    {
      "cell_type": "code",
      "source": [
        "x = \"1.5\"\n",
        "print(type(x))"
      ],
      "metadata": {
        "id": "HUXF5FVW3tG6",
        "outputId": "9788ee70-4e44-434e-9c2b-9e02ab44b722",
        "colab": {
          "base_uri": "https://localhost:8080/"
        }
      },
      "execution_count": null,
      "outputs": [
        {
          "output_type": "stream",
          "name": "stdout",
          "text": [
            "<class 'str'>\n"
          ]
        }
      ]
    },
    {
      "cell_type": "code",
      "source": [
        "c = float(x)\n",
        "print(c)"
      ],
      "metadata": {
        "id": "Z0B5a0We307j",
        "outputId": "c6cf5010-e66a-422f-ecf0-32a7de7cb28e",
        "colab": {
          "base_uri": "https://localhost:8080/"
        }
      },
      "execution_count": null,
      "outputs": [
        {
          "output_type": "stream",
          "name": "stdout",
          "text": [
            "1.5\n"
          ]
        }
      ]
    },
    {
      "cell_type": "code",
      "source": [
        "# Printing Multiple Values\n",
        "print(\"Jona\",\"Iman\",\"Alex\",\"James\",25,24,23,20)"
      ],
      "metadata": {
        "id": "EQ6LWuyo3-3w",
        "outputId": "9c5294b7-ae66-4eaa-f6c7-e9da5b4461d0",
        "colab": {
          "base_uri": "https://localhost:8080/"
        }
      },
      "execution_count": null,
      "outputs": [
        {
          "output_type": "stream",
          "name": "stdout",
          "text": [
            "Jona Iman Alex James 25 24 23 20\n"
          ]
        }
      ]
    },
    {
      "cell_type": "code",
      "source": [
        "# sep is adding specific separator\n",
        "print(\"Jona\",\"Iman\",\"Alex\",\"James\",25,24,23,20, sep=\"|\")\n"
      ],
      "metadata": {
        "id": "3tGkCCAw6JE6",
        "outputId": "ab0c947f-59e8-4309-c23e-704993b68037",
        "colab": {
          "base_uri": "https://localhost:8080/"
        }
      },
      "execution_count": null,
      "outputs": [
        {
          "output_type": "stream",
          "name": "stdout",
          "text": [
            "Jona|Iman|Alex|James|25|24|23|20\n"
          ]
        }
      ]
    },
    {
      "cell_type": "code",
      "source": [
        "#\"\\n\" means next line\n",
        "print(\"Jona\",\"Iman\",\"Alex\",\"James\",25,24,23,20, sep=\"\\n\")"
      ],
      "metadata": {
        "id": "6j-ocVGPCd-h",
        "outputId": "f9e3292e-d055-4ab4-e557-0a8ec781a98c",
        "colab": {
          "base_uri": "https://localhost:8080/"
        }
      },
      "execution_count": null,
      "outputs": [
        {
          "output_type": "stream",
          "name": "stdout",
          "text": [
            "Jona\n",
            "Iman\n",
            "Alex\n",
            "James\n",
            "25\n",
            "24\n",
            "23\n",
            "20\n"
          ]
        }
      ]
    },
    {
      "cell_type": "code",
      "source": [
        "# prompt: can you please give an example of changing the default value of the separator into something else\n",
        "\n",
        "# sep is adding specific separator\n",
        "print(\"Jona\",\"Iman\",\"Alex\",\"James\",25,24,23,20, sep=\"*\")"
      ],
      "metadata": {
        "id": "CbpGSh-UC2kX",
        "outputId": "47003a0b-14f7-4a22-936b-086f71e2695b",
        "colab": {
          "base_uri": "https://localhost:8080/"
        }
      },
      "execution_count": null,
      "outputs": [
        {
          "output_type": "stream",
          "name": "stdout",
          "text": [
            "Jona*Iman*Alex*James*25*24*23*20\n"
          ]
        }
      ]
    },
    {
      "cell_type": "code",
      "source": [
        "print(\"Jimmy\",25, sep=\"\\n\",end= \"->\")\n",
        "print(\"Alex\",24)"
      ],
      "metadata": {
        "id": "l1APs2hODrMA",
        "outputId": "3f7fccdb-97d0-47b0-c8d7-130064d116c0",
        "colab": {
          "base_uri": "https://localhost:8080/"
        }
      },
      "execution_count": null,
      "outputs": [
        {
          "output_type": "stream",
          "name": "stdout",
          "text": [
            "Jimmy\n",
            "25->Alex 24\n"
          ]
        }
      ]
    },
    {
      "cell_type": "markdown",
      "source": [],
      "metadata": {
        "id": "YzTMHP0PMtlj"
      }
    },
    {
      "cell_type": "code",
      "source": [
        "a = 5\n",
        "b = 3"
      ],
      "metadata": {
        "id": "vnm6lsZUEdim"
      },
      "execution_count": null,
      "outputs": []
    },
    {
      "cell_type": "code",
      "source": [],
      "metadata": {
        "id": "NWdAim6xaiud"
      },
      "execution_count": null,
      "outputs": []
    },
    {
      "cell_type": "code",
      "source": [
        "a + b\n",
        "\n"
      ],
      "metadata": {
        "colab": {
          "base_uri": "https://localhost:8080/"
        },
        "id": "lDNPeecAaTO2",
        "outputId": "d12db5ba-ee82-495e-dd2d-21f32606cfde"
      },
      "execution_count": null,
      "outputs": [
        {
          "output_type": "execute_result",
          "data": {
            "text/plain": [
              "8"
            ]
          },
          "metadata": {},
          "execution_count": 6
        }
      ]
    },
    {
      "cell_type": "code",
      "source": [
        "(a - b)"
      ],
      "metadata": {
        "colab": {
          "base_uri": "https://localhost:8080/"
        },
        "id": "_sNEuHkvayN-",
        "outputId": "f4fdc17a-233f-4005-de6d-4b0c968188a4"
      },
      "execution_count": null,
      "outputs": [
        {
          "output_type": "execute_result",
          "data": {
            "text/plain": [
              "2"
            ]
          },
          "metadata": {},
          "execution_count": 7
        }
      ]
    },
    {
      "cell_type": "code",
      "source": [
        "(a / b)"
      ],
      "metadata": {
        "colab": {
          "base_uri": "https://localhost:8080/"
        },
        "id": "2Ew9WfWUa19D",
        "outputId": "e1f423fd-5b67-429d-dfec-5acb987afa7c"
      },
      "execution_count": null,
      "outputs": [
        {
          "output_type": "execute_result",
          "data": {
            "text/plain": [
              "1.6666666666666667"
            ]
          },
          "metadata": {},
          "execution_count": 8
        }
      ]
    },
    {
      "cell_type": "code",
      "source": [
        "# Division operator will always yield float value\n",
        "5 / 5"
      ],
      "metadata": {
        "colab": {
          "base_uri": "https://localhost:8080/"
        },
        "id": "UoibfnWobQ6u",
        "outputId": "75ba71cd-b1ec-4871-9601-7aabae3bf2b3"
      },
      "execution_count": null,
      "outputs": [
        {
          "output_type": "execute_result",
          "data": {
            "text/plain": [
              "1.0"
            ]
          },
          "metadata": {},
          "execution_count": 9
        }
      ]
    },
    {
      "cell_type": "code",
      "source": [
        "a * b"
      ],
      "metadata": {
        "colab": {
          "base_uri": "https://localhost:8080/"
        },
        "id": "24qmb31zbSXB",
        "outputId": "9856e0b4-19ee-4be2-8a58-7d25bdc393ac"
      },
      "execution_count": null,
      "outputs": [
        {
          "output_type": "execute_result",
          "data": {
            "text/plain": [
              "15"
            ]
          },
          "metadata": {},
          "execution_count": 10
        }
      ]
    },
    {
      "cell_type": "code",
      "source": [
        "1.5 + 2.5\n"
      ],
      "metadata": {
        "colab": {
          "base_uri": "https://localhost:8080/"
        },
        "id": "O7KDxB_bbfSN",
        "outputId": "91694217-db3f-49d3-fd1f-93c4040b29da"
      },
      "execution_count": null,
      "outputs": [
        {
          "output_type": "execute_result",
          "data": {
            "text/plain": [
              "4.0"
            ]
          },
          "metadata": {},
          "execution_count": 11
        }
      ]
    },
    {
      "cell_type": "code",
      "source": [
        "first = \"Jonathan\"\n",
        "last = \"Nkangabwa\"\n"
      ],
      "metadata": {
        "id": "zRPYW7PMbwQF"
      },
      "execution_count": null,
      "outputs": []
    },
    {
      "cell_type": "code",
      "source": [
        "print(first + last)"
      ],
      "metadata": {
        "colab": {
          "base_uri": "https://localhost:8080/"
        },
        "id": "wHLy-Ysdb6zS",
        "outputId": "f7419d14-015a-4b99-fbde-0f8ec72b66a4"
      },
      "execution_count": null,
      "outputs": [
        {
          "output_type": "stream",
          "name": "stdout",
          "text": [
            "JonathanNkangabwa\n"
          ]
        }
      ]
    },
    {
      "cell_type": "code",
      "source": [
        "# Modulus % : It will give the remainder\n",
        "print (a, b)"
      ],
      "metadata": {
        "colab": {
          "base_uri": "https://localhost:8080/"
        },
        "id": "XfyW6ootb9Ch",
        "outputId": "524e028d-04ee-4e20-c0e8-df0566ec35b2"
      },
      "execution_count": null,
      "outputs": [
        {
          "output_type": "stream",
          "name": "stdout",
          "text": [
            "5 3\n"
          ]
        }
      ]
    },
    {
      "cell_type": "code",
      "source": [
        "print(a % b)"
      ],
      "metadata": {
        "colab": {
          "base_uri": "https://localhost:8080/"
        },
        "id": "nLBRwRFYeIgU",
        "outputId": "414a5f18-7ac1-4dd5-a5aa-ae777907d41d"
      },
      "execution_count": null,
      "outputs": [
        {
          "output_type": "stream",
          "name": "stdout",
          "text": [
            "2\n"
          ]
        }
      ]
    },
    {
      "cell_type": "code",
      "source": [
        "print(10 % 10)\n"
      ],
      "metadata": {
        "colab": {
          "base_uri": "https://localhost:8080/"
        },
        "id": "0BJYT67meaQL",
        "outputId": "40a0a2f6-1578-4a7f-d852-1fbdcf2f7274"
      },
      "execution_count": null,
      "outputs": [
        {
          "output_type": "stream",
          "name": "stdout",
          "text": [
            "0\n"
          ]
        }
      ]
    },
    {
      "cell_type": "code",
      "source": [
        "print(a // b)"
      ],
      "metadata": {
        "colab": {
          "base_uri": "https://localhost:8080/"
        },
        "id": "SQTLTGZIeiSv",
        "outputId": "d788b54b-d742-4ee7-fc33-144ec974c4eb"
      },
      "execution_count": null,
      "outputs": [
        {
          "output_type": "stream",
          "name": "stdout",
          "text": [
            "1\n"
          ]
        }
      ]
    },
    {
      "cell_type": "code",
      "source": [
        "#To the power accepts two values base and power (**)\n",
        "print(a ** b)"
      ],
      "metadata": {
        "colab": {
          "base_uri": "https://localhost:8080/"
        },
        "id": "rK7wFp8te58e",
        "outputId": "18b70e73-01e9-411b-ad96-70df695e7332"
      },
      "execution_count": null,
      "outputs": [
        {
          "output_type": "stream",
          "name": "stdout",
          "text": [
            "125\n"
          ]
        }
      ]
    },
    {
      "cell_type": "code",
      "source": [
        "print( 2 ** 3)"
      ],
      "metadata": {
        "colab": {
          "base_uri": "https://localhost:8080/"
        },
        "id": "sWZ3G6_-gCxq",
        "outputId": "e95e21d1-de3b-4e69-b2b5-88d772995e11"
      },
      "execution_count": null,
      "outputs": [
        {
          "output_type": "stream",
          "name": "stdout",
          "text": [
            "8\n"
          ]
        }
      ]
    },
    {
      "cell_type": "code",
      "source": [
        "print(4 ** 5)"
      ],
      "metadata": {
        "colab": {
          "base_uri": "https://localhost:8080/"
        },
        "id": "qfsCvmXGg73f",
        "outputId": "e7d415a3-30a2-4006-f8d1-e47c8904333f"
      },
      "execution_count": null,
      "outputs": [
        {
          "output_type": "stream",
          "name": "stdout",
          "text": [
            "1024\n"
          ]
        }
      ]
    },
    {
      "cell_type": "code",
      "source": [
        "# prompt: can you write out different comparison operators with all signs and examples\n",
        "\n",
        "# Comparison Operators in Python\n",
        "\n",
        "# 1. Equal to (==)\n",
        "a = 5\n",
        "b = 5\n",
        "print(a == b)  # Output: True\n",
        "\n",
        "# 2. Not equal to (!=)\n",
        "a = 5\n",
        "b = 3\n",
        "print(a != b)  # Output: True\n",
        "\n",
        "# 3. Greater than (>)\n",
        "a = 10\n",
        "b = 5\n",
        "print(a > b)  # Output: True\n",
        "\n",
        "# 4. Less than (<)\n",
        "a = 5\n",
        "b = 10\n",
        "print(a < b)  # Output: True\n",
        "\n",
        "# 5. Greater than or equal to (>=)\n",
        "a = 10\n",
        "b = 10\n",
        "print(a >= b)  # Output: True\n",
        "\n",
        "# 6. Less than or equal to (<=)\n",
        "a = 5\n",
        "b = 10\n",
        "print(a <= b)  # Output: True"
      ],
      "metadata": {
        "id": "4NTr5b0eg_pH"
      },
      "execution_count": null,
      "outputs": []
    },
    {
      "cell_type": "code",
      "source": [
        "# prompt: can you now write out all assignment operators and examples along with them\n",
        "\n",
        "# Assignment Operators in Python\n",
        "\n",
        "# 1. Simple Assignment (=)\n",
        "a = 10  # Assigns the value 10 to variable a\n",
        "\n",
        "# 2. Add and Assign (+=)\n",
        "a += 5  # Equivalent to a = a + 5 (a becomes 15)\n",
        "\n",
        "# 3. Subtract and Assign (-=)\n",
        "a -= 3  # Equivalent to a = a - 3 (a becomes 12)\n",
        "\n",
        "# 4. Multiply and Assign (*=)\n",
        "a *= 2  # Equivalent to a = a * 2 (a becomes 24)\n",
        "\n",
        "# 5. Divide and Assign (/=)\n",
        "a /= 4  # Equivalent to a = a / 4 (a becomes 6.0 - Note: division results in a float)\n",
        "\n",
        "# 6. Modulus and Assign (%=)\n",
        "a %= 3  # Equivalent to a = a % 3 (a becomes 0.0)\n",
        "\n",
        "# 7. Floor Division and Assign (//=)\n",
        "a = 10\n",
        "a //= 3  # Equivalent to a = a // 3 (a becomes 3)\n",
        "\n",
        "# 8. Exponentiation and Assign (**=)\n",
        "a **= 2  # Equivalent to a = a ** 2 (a becomes 9)\n",
        "\n",
        "# Examples demonstrating the operators\n",
        "print(f\"a = {a}\")  # Output a's current value (9)\n",
        "\n",
        "b = 7\n",
        "b += 2\n",
        "print(f\"b = {b}\") # Output: 9\n",
        "\n",
        "c = 15\n",
        "c -= 5\n",
        "print(f\"c = {c}\") # Output: 10\n",
        "\n",
        "d = 4\n",
        "d *= 3\n",
        "print(f\"d = {d}\") # Output: 12\n",
        "\n",
        "e = 20\n",
        "e /= 4\n",
        "print(f\"e = {e}\") # Output: 5.0\n",
        "\n",
        "f = 17\n",
        "f %= 5\n",
        "print(f\"f = {f}\") # Output: 2\n",
        "\n",
        "g = 14\n",
        "g //= 3\n",
        "print(f\"g = {g}\") # Output: 4\n",
        "\n",
        "h = 2\n",
        "h **= 3\n",
        "print(f\"h = {h}\") # Output: 8"
      ],
      "metadata": {
        "colab": {
          "base_uri": "https://localhost:8080/"
        },
        "id": "ta6krObanez_",
        "outputId": "626d96f0-b0e0-40cc-9c7a-b33fbd77dd67"
      },
      "execution_count": null,
      "outputs": [
        {
          "output_type": "stream",
          "name": "stdout",
          "text": [
            "a = 9\n",
            "b = 9\n",
            "c = 10\n",
            "d = 12\n",
            "e = 5.0\n",
            "f = 2\n",
            "g = 4\n",
            "h = 8\n"
          ]
        }
      ]
    },
    {
      "cell_type": "code",
      "source": [
        "# prompt: Can you list out logical operators with their own examples\n",
        "\n",
        "# Logical Operators in Python\n",
        "\n",
        "# 1. and (Logical AND)\n",
        "# Returns True if both operands are True, otherwise returns False.\n",
        "x = 5\n",
        "y = 10\n",
        "print(x > 3 and y < 15)  # Output: True (because both conditions are True)\n",
        "print(x < 3 and y < 15)  # Output: False (because the first condition is False)\n",
        "\n",
        "\n",
        "# 2. or (Logical OR)\n",
        "# Returns True if at least one of the operands is True, otherwise returns False.\n",
        "x = 5\n",
        "y = 10\n",
        "print(x > 3 or y > 15)   # Output: True (because the first condition is True)\n",
        "print(x < 3 or y > 15)   # Output: False (because both conditions are False)\n",
        "\n",
        "\n",
        "# 3. not (Logical NOT)\n",
        "# Inverts the truth value of an operand. Returns True if the operand is False, and False if the operand is True.\n",
        "x = 5\n",
        "print(not (x > 3))  # Output: False (because x > 3 is True, and 'not' inverts it)\n",
        "print(not (x < 3))  # Output: True (because x < 3 is False, and 'not' inverts it)"
      ],
      "metadata": {
        "colab": {
          "base_uri": "https://localhost:8080/"
        },
        "id": "fM6AdAf2pbb-",
        "outputId": "ff314e38-1542-4645-f858-95212215f775"
      },
      "execution_count": null,
      "outputs": [
        {
          "output_type": "stream",
          "name": "stdout",
          "text": [
            "True\n",
            "False\n",
            "True\n",
            "False\n",
            "False\n",
            "True\n"
          ]
        }
      ]
    },
    {
      "cell_type": "code",
      "source": [
        "name = \"Jonathan Nkangabwa\""
      ],
      "metadata": {
        "id": "XldefMhfpmY4"
      },
      "execution_count": null,
      "outputs": []
    },
    {
      "cell_type": "code",
      "source": [
        "\"J\" in name"
      ],
      "metadata": {
        "id": "ODYYf8wwQT2Q",
        "outputId": "024db973-cb56-42dd-f242-3b9e5b57bca8",
        "colab": {
          "base_uri": "https://localhost:8080/"
        }
      },
      "execution_count": null,
      "outputs": [
        {
          "output_type": "execute_result",
          "data": {
            "text/plain": [
              "True"
            ]
          },
          "metadata": {},
          "execution_count": 24
        }
      ]
    },
    {
      "cell_type": "code",
      "source": [
        " \"R\" in name\n"
      ],
      "metadata": {
        "id": "CrcRVdgyQcsx",
        "outputId": "ad8f98b5-97ed-4752-9e57-48f03322d4cd",
        "colab": {
          "base_uri": "https://localhost:8080/"
        }
      },
      "execution_count": null,
      "outputs": [
        {
          "output_type": "execute_result",
          "data": {
            "text/plain": [
              "False"
            ]
          },
          "metadata": {},
          "execution_count": 27
        }
      ]
    },
    {
      "cell_type": "code",
      "source": [
        "\"Jonathan\" in name"
      ],
      "metadata": {
        "id": "HrTJTo2YQgdi",
        "outputId": "3c507156-827f-4254-862e-d68b51578fab",
        "colab": {
          "base_uri": "https://localhost:8080/"
        }
      },
      "execution_count": null,
      "outputs": [
        {
          "output_type": "execute_result",
          "data": {
            "text/plain": [
              "True"
            ]
          },
          "metadata": {},
          "execution_count": 28
        }
      ]
    },
    {
      "cell_type": "code",
      "source": [
        "# is operator tells you if noth the object are at the same memory location\n",
        "a = 5\n",
        "b = 5\n",
        "print(id(a), id(b))"
      ],
      "metadata": {
        "id": "fAku71pjQn9e",
        "outputId": "a0f22fff-1e58-44cc-cf1e-881868757817",
        "colab": {
          "base_uri": "https://localhost:8080/"
        }
      },
      "execution_count": null,
      "outputs": [
        {
          "output_type": "stream",
          "name": "stdout",
          "text": [
            "139598404206960 139598404206960\n"
          ]
        }
      ]
    },
    {
      "cell_type": "code",
      "source": [
        "a is b"
      ],
      "metadata": {
        "id": "l7mDK0DFRZGh",
        "outputId": "b9316c51-1579-45de-958d-dc47dad4fe89",
        "colab": {
          "base_uri": "https://localhost:8080/"
        }
      },
      "execution_count": null,
      "outputs": [
        {
          "output_type": "execute_result",
          "data": {
            "text/plain": [
              "True"
            ]
          },
          "metadata": {},
          "execution_count": 30
        }
      ]
    },
    {
      "cell_type": "code",
      "source": [
        "a = 34\n",
        "b = 45\n",
        "print (id(a), id(b))"
      ],
      "metadata": {
        "id": "N9N2W_1aRmx0",
        "outputId": "c71e5815-b4b7-46c7-ed20-466103d965d9",
        "colab": {
          "base_uri": "https://localhost:8080/"
        }
      },
      "execution_count": null,
      "outputs": [
        {
          "output_type": "stream",
          "name": "stdout",
          "text": [
            "139598404207888 139598404208240\n"
          ]
        }
      ]
    },
    {
      "cell_type": "code",
      "source": [
        "# Create program to calculate volume of Sphere\n",
        "# R = radius so (4*pi*(R**3))/3\n",
        "#pi = 22/7\n",
        "\n",
        "def volume_of_sphere(radius):\n",
        "    pi = 22/7\n",
        "    volume = (4*pi*(radius**3))/3\n",
        "    return volume;\n"
      ],
      "metadata": {
        "id": "JbAeL5kvR3U5"
      },
      "execution_count": null,
      "outputs": []
    },
    {
      "cell_type": "code",
      "source": [
        "print(volume_of_sphere(1))"
      ],
      "metadata": {
        "id": "rJZV4qAETwjs",
        "outputId": "cfb0b151-5bde-43dc-a861-66f1c71d5daf",
        "colab": {
          "base_uri": "https://localhost:8080/"
        }
      },
      "execution_count": null,
      "outputs": [
        {
          "output_type": "stream",
          "name": "stdout",
          "text": [
            "4.190476190476191\n"
          ]
        }
      ]
    },
    {
      "cell_type": "code",
      "source": [
        "print(volume_of_sphere(8))"
      ],
      "metadata": {
        "id": "bio7ZsKpT0ym",
        "outputId": "8bc597ee-a0d6-4e09-f58c-5260f75c2ebb",
        "colab": {
          "base_uri": "https://localhost:8080/"
        }
      },
      "execution_count": null,
      "outputs": [
        {
          "output_type": "stream",
          "name": "stdout",
          "text": [
            "2145.5238095238096\n"
          ]
        }
      ]
    },
    {
      "cell_type": "code",
      "source": [
        "# prompt: can you redo this problem and list every detail step by step as a note to break down the solution to this problem please? Volume of Sphere in Python\n",
        "# Problem Description:\n",
        "# You are given a positive integer r denoting the radius of a sphere as a parameter. Write a program to calculate the volume of the sphere. The volume of a sphere having radius R is given by (4 * π * R3) / 3.\n",
        "# NOTE: Return the volume of the sphere up to two decimal places. You can use round().\n",
        "\n",
        "import math\n",
        "\n",
        "def volume_of_sphere(radius):\n",
        "    \"\"\"\n",
        "    Calculates the volume of a sphere given its radius.\n",
        "\n",
        "    Args:\n",
        "        radius: The radius of the sphere.\n",
        "\n",
        "    Returns:\n",
        "        The volume of the sphere, rounded to two decimal places.\n",
        "    \"\"\"\n",
        "\n",
        "    # 1. Calculate the volume using the formula (4/3) * pi * radius^3\n",
        "    # Use math.pi for a more accurate value of pi\n",
        "    volume = (4/3) * math.pi * (radius**3)\n",
        "\n",
        "    # 2. Round the volume to two decimal places\n",
        "    rounded_volume = round(volume, 2)\n",
        "\n",
        "    # 3. Return the rounded volume\n",
        "    return rounded_volume\n",
        "\n",
        "# Example usage\n",
        "radius = 5\n",
        "sphere_volume = volume_of_sphere(radius)\n",
        "print(f\"The volume of a sphere with radius {radius} is: {sphere_volume}\")"
      ],
      "metadata": {
        "id": "cB1tTxVPT_ny",
        "outputId": "f9b0ebdc-b4aa-4746-c1ab-0545cc8e6411",
        "colab": {
          "base_uri": "https://localhost:8080/"
        }
      },
      "execution_count": null,
      "outputs": [
        {
          "output_type": "stream",
          "name": "stdout",
          "text": [
            "The volume of a sphere with radius 5 is: 523.6\n"
          ]
        }
      ]
    },
    {
      "cell_type": "code",
      "source": [
        "age = int(input())\n",
        "#Now use if else\n",
        "if age > 18:\n",
        "  print(\"You are eligible to DRIVE\")\n",
        "  print(\"Make sure to drive slow\")\n",
        "else:\n",
        "  print(\"You cannot DRIVE; wait until you are 18\")\n"
      ],
      "metadata": {
        "id": "OqLXYJUzf8Lg",
        "outputId": "30457221-1de8-4db9-c815-e7543ef35828",
        "colab": {
          "base_uri": "https://localhost:8080/"
        }
      },
      "execution_count": null,
      "outputs": [
        {
          "output_type": "stream",
          "name": "stdout",
          "text": [
            "19\n",
            "You are eligible to DRIVE\n",
            "Make sure to drive slow\n"
          ]
        }
      ]
    },
    {
      "cell_type": "code",
      "source": [
        "age = int(input())\n",
        "\n",
        "if age > 18:\n",
        "  if age >= 65:\n",
        "    print(\"Take rest\")\n",
        "  else:\n",
        "    print(\"You are eligible to DRIVE\", end=(\", \"))\n",
        "    print(\"so make sure to drive slow!\")\n",
        "else:\n",
        "  print(\"You cannot DRIVE; wait until you are 18\")"
      ],
      "metadata": {
        "id": "c4f8Oi4HgvMV",
        "outputId": "2a7edc71-e586-4b49-b01d-34f595f12475",
        "colab": {
          "base_uri": "https://localhost:8080/"
        }
      },
      "execution_count": null,
      "outputs": [
        {
          "output_type": "stream",
          "name": "stdout",
          "text": [
            "20\n",
            "You are eligible to DRIVE, so make sure to drive slow!\n"
          ]
        }
      ]
    },
    {
      "cell_type": "code",
      "source": [
        "num = int(input())\n",
        "\n",
        "if num > 0:\n",
        "  print(\"Positive\")\n",
        "elif num == 0:\n",
        "  print(\"Zero\")\n",
        "else:\n",
        "  print(\"Negative\")\n",
        "\n",
        "\n"
      ],
      "metadata": {
        "id": "w_1PMWNRoiQn",
        "outputId": "064cec37-5aaf-4e15-f30c-f40d0db05010",
        "colab": {
          "base_uri": "https://localhost:8080/"
        }
      },
      "execution_count": null,
      "outputs": [
        {
          "output_type": "stream",
          "name": "stdout",
          "text": [
            "-7\n",
            "Negative\n"
          ]
        }
      ]
    },
    {
      "cell_type": "code",
      "source": [
        "marks = [90, 30, 100, 50, 80, 95]"
      ],
      "metadata": {
        "id": "xD5HGfxp0VhV"
      },
      "execution_count": null,
      "outputs": []
    },
    {
      "cell_type": "code",
      "source": [
        "# iterate on the list\n",
        "\n",
        "\n",
        "highest = marks[0] #initial is 90\n",
        "for i in marks:\n",
        "  # check the condition if the marks are highest order\n",
        "  if i > highest:\n",
        "    highest = i\n",
        "print(highest)"
      ],
      "metadata": {
        "id": "qFCbP6B10gqK",
        "outputId": "dcf3c1aa-3e3c-47b0-96f9-e4870d66da7f",
        "colab": {
          "base_uri": "https://localhost:8080/"
        }
      },
      "execution_count": null,
      "outputs": [
        {
          "output_type": "stream",
          "name": "stdout",
          "text": [
            "100\n"
          ]
        }
      ]
    },
    {
      "cell_type": "code",
      "source": [
        "# max function: find highest in marks\n",
        "max(marks)"
      ],
      "metadata": {
        "id": "PadnHbhf0t-l",
        "outputId": "63f552c9-3f1f-4dc2-d732-02b39edcf0b6",
        "colab": {
          "base_uri": "https://localhost:8080/"
        }
      },
      "execution_count": null,
      "outputs": [
        {
          "output_type": "execute_result",
          "data": {
            "text/plain": [
              "100"
            ]
          },
          "metadata": {},
          "execution_count": 59
        }
      ]
    },
    {
      "cell_type": "code",
      "source": [
        "min(marks)"
      ],
      "metadata": {
        "id": "K1mhTYQf1kVJ",
        "outputId": "5d176650-8536-4b09-d5dc-c156d401ad42",
        "colab": {
          "base_uri": "https://localhost:8080/"
        }
      },
      "execution_count": null,
      "outputs": [
        {
          "output_type": "execute_result",
          "data": {
            "text/plain": [
              "30"
            ]
          },
          "metadata": {},
          "execution_count": 60
        }
      ]
    },
    {
      "cell_type": "markdown",
      "source": [
        "Grading system\n",
        "A: marks equal and above 90\n"
      ],
      "metadata": {
        "id": "2z-g-e8L2KsL"
      }
    },
    {
      "cell_type": "code",
      "source": [
        "marks = int(input())\n",
        "\n",
        "if marks >= 90 and marks <= 100:\n",
        "  print(\"A grade\")\n",
        "elif marks >= 80 and marks < 90:\n",
        "  print(\"B grade\")\n",
        "elif marks >= 70 and marks < 80:\n",
        "  print(\"C grade\")\n",
        "elif marks >= 60 and marks < 70:\n",
        "  print(\"D grade\")\n",
        "elif marks < 60:\n",
        "  print(\"E\")\n",
        "else:\n",
        "  print(\"Invalid\")\n"
      ],
      "metadata": {
        "id": "K6aINDKD3uIa",
        "outputId": "b3028e4c-ba82-4a92-fdf8-1005f4c226af",
        "colab": {
          "base_uri": "https://localhost:8080/"
        }
      },
      "execution_count": 45,
      "outputs": [
        {
          "output_type": "stream",
          "name": "stdout",
          "text": [
            "59\n",
            "E\n"
          ]
        }
      ]
    },
    {
      "cell_type": "code",
      "source": [
        "#Special Operators\n",
        "\n",
        "name = \"Jonathan Nkangabwa\"\n"
      ],
      "metadata": {
        "id": "bXH12bXr9lh7"
      },
      "execution_count": 1,
      "outputs": []
    },
    {
      "cell_type": "code",
      "source": [
        "\"J\" in name"
      ],
      "metadata": {
        "id": "deOeuRSm9yhB",
        "outputId": "d27ae45f-a3e4-4b7c-a8cc-11c366ec0771",
        "colab": {
          "base_uri": "https://localhost:8080/"
        }
      },
      "execution_count": 2,
      "outputs": [
        {
          "output_type": "execute_result",
          "data": {
            "text/plain": [
              "True"
            ]
          },
          "metadata": {},
          "execution_count": 2
        }
      ]
    },
    {
      "cell_type": "code",
      "source": [
        "\"B\" in name"
      ],
      "metadata": {
        "id": "r_fji2it92q4",
        "outputId": "9e887610-a982-4d99-bde2-a873caccfad8",
        "colab": {
          "base_uri": "https://localhost:8080/"
        }
      },
      "execution_count": 3,
      "outputs": [
        {
          "output_type": "execute_result",
          "data": {
            "text/plain": [
              "False"
            ]
          },
          "metadata": {},
          "execution_count": 3
        }
      ]
    },
    {
      "cell_type": "code",
      "source": [
        "\"Jonathan\" in name"
      ],
      "metadata": {
        "id": "yvZBCvnK96tM",
        "outputId": "96461ea2-a6c3-414e-d132-9f37c89e80a8",
        "colab": {
          "base_uri": "https://localhost:8080/"
        }
      },
      "execution_count": 4,
      "outputs": [
        {
          "output_type": "execute_result",
          "data": {
            "text/plain": [
              "True"
            ]
          },
          "metadata": {},
          "execution_count": 4
        }
      ]
    },
    {
      "cell_type": "code",
      "source": [
        "a = 5\n",
        "b = 6\n",
        "print(id(a), id(b))"
      ],
      "metadata": {
        "id": "QfhtI1RXEdP5",
        "outputId": "d9089998-5ae7-4ed9-9276-d7c2395fe024",
        "colab": {
          "base_uri": "https://localhost:8080/"
        }
      },
      "execution_count": 21,
      "outputs": [
        {
          "output_type": "stream",
          "name": "stdout",
          "text": [
            "138812362490224 138812362490256\n"
          ]
        }
      ]
    },
    {
      "cell_type": "code",
      "source": [
        "a is b"
      ],
      "metadata": {
        "id": "LdgLKwkOqu-Y",
        "outputId": "133e5ffd-4289-4084-f946-84c60877007c",
        "colab": {
          "base_uri": "https://localhost:8080/"
        }
      },
      "execution_count": 22,
      "outputs": [
        {
          "output_type": "execute_result",
          "data": {
            "text/plain": [
              "False"
            ]
          },
          "metadata": {},
          "execution_count": 22
        }
      ]
    },
    {
      "cell_type": "code",
      "source": [
        "print(type(6/3))"
      ],
      "metadata": {
        "id": "DuIc87AGqvhl",
        "outputId": "541cd41c-a839-4bf2-f01b-000b7146be9c",
        "colab": {
          "base_uri": "https://localhost:8080/"
        }
      },
      "execution_count": 23,
      "outputs": [
        {
          "output_type": "stream",
          "name": "stdout",
          "text": [
            "<class 'float'>\n"
          ]
        }
      ]
    },
    {
      "cell_type": "code",
      "source": [
        "print(0 or 1)"
      ],
      "metadata": {
        "id": "pBWXROY5qv9E",
        "outputId": "6768573f-e823-47c4-c36d-1fb111fbd5cd",
        "colab": {
          "base_uri": "https://localhost:8080/"
        }
      },
      "execution_count": 24,
      "outputs": [
        {
          "output_type": "stream",
          "name": "stdout",
          "text": [
            "1\n"
          ]
        }
      ]
    },
    {
      "cell_type": "code",
      "source": [
        "word_to_reverse = input()\n",
        "\n",
        "def reversed():\n",
        "  return word_to_reverse [::-1]\n",
        "\n",
        "reversed_string = reversed()\n",
        "print((reversed_string) + \" is the reversed string\")"
      ],
      "metadata": {
        "id": "rHyMLqek98jE",
        "outputId": "019b6435-91a1-4e2c-c813-cf31cc89d234",
        "colab": {
          "base_uri": "https://localhost:8080/"
        }
      },
      "execution_count": 13,
      "outputs": [
        {
          "output_type": "stream",
          "name": "stdout",
          "text": [
            "Jonathan Nkangabwa\n",
            "awbagnakN nahtanoJ\n"
          ]
        }
      ]
    },
    {
      "cell_type": "code",
      "source": [
        "word_to_reverse = input()\n",
        "\n",
        "def reversed():\n",
        "  return word_to_reverse [::-1]\n",
        "\n",
        "reversed_string = reversed()\n",
        "print((reversed_string) + \" is the reversed string\")"
      ],
      "metadata": {
        "id": "c9djUXFlENCc",
        "outputId": "edfdec28-dc10-4706-f9f7-171457132ee1",
        "colab": {
          "base_uri": "https://localhost:8080/"
        }
      },
      "execution_count": 18,
      "outputs": [
        {
          "output_type": "stream",
          "name": "stdout",
          "text": [
            "Come on down!\n",
            "!nwod no emoC is the reversed string\n"
          ]
        }
      ]
    },
    {
      "cell_type": "code",
      "source": [
        "def say_sup(name):\n",
        "  print(f\"Sup {name}\")"
      ],
      "metadata": {
        "id": "wJFZFEUet35c"
      },
      "execution_count": 25,
      "outputs": []
    },
    {
      "cell_type": "code",
      "source": [
        "say_sup(\"Jonathan\")\n"
      ],
      "metadata": {
        "id": "YoxLa_1huCmG",
        "outputId": "a6578cad-e1fd-47cb-ece6-b38aff588ae0",
        "colab": {
          "base_uri": "https://localhost:8080/"
        }
      },
      "execution_count": 26,
      "outputs": [
        {
          "output_type": "stream",
          "name": "stdout",
          "text": [
            "Sup Jonathan\n"
          ]
        }
      ]
    },
    {
      "cell_type": "code",
      "source": [
        "def say_sup(name):\n",
        "  return f\"Sup {name}\""
      ],
      "metadata": {
        "id": "G7g7CkcruCRv"
      },
      "execution_count": 27,
      "outputs": []
    },
    {
      "cell_type": "code",
      "source": [
        "say_sup(\"Jonathan\")"
      ],
      "metadata": {
        "id": "fAISKzm1uAHA",
        "outputId": "a65b84fb-f368-4c86-f8c3-010d9a0e8c7a",
        "colab": {
          "base_uri": "https://localhost:8080/",
          "height": 35
        }
      },
      "execution_count": 28,
      "outputs": [
        {
          "output_type": "execute_result",
          "data": {
            "text/plain": [
              "'Sup Jonathan'"
            ],
            "application/vnd.google.colaboratory.intrinsic+json": {
              "type": "string"
            }
          },
          "metadata": {},
          "execution_count": 28
        }
      ]
    },
    {
      "cell_type": "code",
      "source": [
        "def run_internet():\n",
        "  pass\n",
        "\n",
        "def run_game():\n",
        "  pass"
      ],
      "metadata": {
        "id": "yyfFJ2FnuTDs"
      },
      "execution_count": 30,
      "outputs": []
    },
    {
      "cell_type": "code",
      "source": [
        "number = input('Please provide a number >> ')\n",
        "\n",
        "try:\n",
        "  print(15 + int(number))\n",
        "except:\n",
        "  print(\"Something went wrong! Please try again\")"
      ],
      "metadata": {
        "id": "P51IgJiuunCz",
        "outputId": "d4c490d0-9891-4b1f-a6d6-6af46040b335",
        "colab": {
          "base_uri": "https://localhost:8080/"
        }
      },
      "execution_count": 33,
      "outputs": [
        {
          "output_type": "stream",
          "name": "stdout",
          "text": [
            "Please provide a number >> mario\n",
            "Something went wrong! Please try again\n"
          ]
        }
      ]
    },
    {
      "cell_type": "code",
      "source": [
        "grades = [90, 30, 100, 50, 80, 95]\n",
        "\n",
        "# iterate on the list, use for loop\n",
        "\n",
        "for i in grades:\n",
        "  print(i)"
      ],
      "metadata": {
        "id": "JV1DYY-AvC4c",
        "outputId": "a72d9ba7-140c-4fb9-b2b0-ce905f1a1f96",
        "colab": {
          "base_uri": "https://localhost:8080/"
        }
      },
      "execution_count": 40,
      "outputs": [
        {
          "output_type": "stream",
          "name": "stdout",
          "text": [
            "90\n",
            "30\n",
            "100\n",
            "50\n",
            "80\n",
            "95\n"
          ]
        }
      ]
    },
    {
      "cell_type": "code",
      "source": [
        "grades = [90, 30, 100, 50, 80, 95]\n",
        "\n",
        "# iterate on the list, use for loop\n",
        "\n",
        "highest = grades[0]\n",
        "for i in grades:\n",
        "  if i > highest:\n",
        "    highest = i\n",
        "print(highest)\n"
      ],
      "metadata": {
        "id": "5bZD3lvJyi-U",
        "outputId": "88a02a73-1a75-45f1-cc86-27f40ec05df1",
        "colab": {
          "base_uri": "https://localhost:8080/"
        }
      },
      "execution_count": 41,
      "outputs": [
        {
          "output_type": "stream",
          "name": "stdout",
          "text": [
            "100\n"
          ]
        }
      ]
    },
    {
      "cell_type": "code",
      "source": [
        "max(grades)"
      ],
      "metadata": {
        "id": "agaXRkLhzSwI",
        "outputId": "e813b71b-cb90-413e-a51c-25a9572a3b3a",
        "colab": {
          "base_uri": "https://localhost:8080/"
        }
      },
      "execution_count": 42,
      "outputs": [
        {
          "output_type": "execute_result",
          "data": {
            "text/plain": [
              "100"
            ]
          },
          "metadata": {},
          "execution_count": 42
        }
      ]
    },
    {
      "cell_type": "code",
      "source": [
        "min(grades)"
      ],
      "metadata": {
        "id": "4QA7YCZECgTn",
        "outputId": "4d0b9f6e-1b47-46e1-c9a9-9a5e2152c962",
        "colab": {
          "base_uri": "https://localhost:8080/"
        }
      },
      "execution_count": 43,
      "outputs": [
        {
          "output_type": "execute_result",
          "data": {
            "text/plain": [
              "30"
            ]
          },
          "metadata": {},
          "execution_count": 43
        }
      ]
    },
    {
      "cell_type": "code",
      "source": [
        "#LOOPS - repetition of the same code; WHILE and For\n",
        "\n",
        "print(\"You are the best man!\")\n",
        "print(\"You are the best man!\")\n",
        "print(\"You are the best man!\")\n",
        "print(\"You are the best man!\")\n",
        "print(\"You are the best man!\")\n",
        "print(\"You are the best man!\")"
      ],
      "metadata": {
        "id": "UhNfd1f4KVov",
        "outputId": "5bae0ecd-e2a7-4131-9393-f322e30b1049",
        "colab": {
          "base_uri": "https://localhost:8080/"
        }
      },
      "execution_count": 47,
      "outputs": [
        {
          "output_type": "stream",
          "name": "stdout",
          "text": [
            "You are the best man!\n",
            "You are the best man!\n",
            "You are the best man!\n",
            "You are the best man!\n",
            "You are the best man!\n",
            "You are the best man!\n"
          ]
        }
      ]
    },
    {
      "cell_type": "code",
      "source": [
        "#While Loops; a While loop continues as long as Test condition is true\n",
        "#Intialize a value, loop condition, and updating value\n",
        "\n",
        "#initialize\n",
        "i = 1\n",
        "\n",
        "#loop condition\n",
        "while i <= 8:\n",
        "  #inside body\n",
        "  print(\"You are the best man!!\")\n",
        "\n",
        "  # update\n",
        "  i += 1"
      ],
      "metadata": {
        "id": "YIbpEydOK2Lq",
        "outputId": "18d967c9-c071-4288-c150-54b58166465b",
        "colab": {
          "base_uri": "https://localhost:8080/"
        }
      },
      "execution_count": 53,
      "outputs": [
        {
          "output_type": "stream",
          "name": "stdout",
          "text": [
            "You are the best man!!\n",
            "You are the best man!!\n",
            "You are the best man!!\n",
            "You are the best man!!\n",
            "You are the best man!!\n",
            "You are the best man!!\n",
            "You are the best man!!\n",
            "You are the best man!!\n"
          ]
        }
      ]
    },
    {
      "cell_type": "code",
      "source": [
        "#print all numbers from 1 - 10 using loop\n",
        "\n",
        "i = 1\n",
        "#condition\n",
        "while i <= 10:\n",
        "  print(i, end=\" \")\n",
        "  #update\n",
        "  i += 1"
      ],
      "metadata": {
        "id": "taT7dQUmTkev",
        "outputId": "e3fb68ca-1efe-4a91-f59b-abe19b09fbe7",
        "colab": {
          "base_uri": "https://localhost:8080/"
        }
      },
      "execution_count": 56,
      "outputs": [
        {
          "output_type": "stream",
          "name": "stdout",
          "text": [
            "1 2 3 4 5 6 7 8 9 10 "
          ]
        }
      ]
    },
    {
      "cell_type": "code",
      "source": [
        "#Print even numbers in Given range from 0 - 10\n",
        "\n",
        "i = 0\n",
        "while i <= 10:\n",
        "  print(i, end=\" \")\n",
        "  i += 2\n"
      ],
      "metadata": {
        "id": "-gsARf0nXdqm",
        "outputId": "d944b862-e90c-4bd7-9d10-510c7bbbfae3",
        "colab": {
          "base_uri": "https://localhost:8080/"
        }
      },
      "execution_count": 57,
      "outputs": [
        {
          "output_type": "stream",
          "name": "stdout",
          "text": [
            "0 2 4 6 8 10 "
          ]
        }
      ]
    },
    {
      "cell_type": "code",
      "source": [
        "i = 0\n",
        "while i <= 10:\n",
        "  if i % 1 == 0: #print all numbers\n",
        "    print(i, end=\" \")\n",
        "  i += 1"
      ],
      "metadata": {
        "id": "k1y665PpYtSX",
        "outputId": "dc0703a1-af23-4121-b221-a65421741d2b",
        "colab": {
          "base_uri": "https://localhost:8080/"
        }
      },
      "execution_count": 67,
      "outputs": [
        {
          "output_type": "stream",
          "name": "stdout",
          "text": [
            "0 1 2 3 4 5 6 7 8 9 10 "
          ]
        }
      ]
    },
    {
      "cell_type": "code",
      "source": [
        "i = 0\n",
        "while i <= 10:\n",
        "    print(i, end=\" \")\n",
        "    i += 3 #add 3 to i"
      ],
      "metadata": {
        "id": "M2Sw4dWwXouu",
        "outputId": "2f841659-5e0f-496c-a557-7fd0ae7f8bd3",
        "colab": {
          "base_uri": "https://localhost:8080/"
        }
      },
      "execution_count": 65,
      "outputs": [
        {
          "output_type": "stream",
          "name": "stdout",
          "text": [
            "0 3 6 9 "
          ]
        }
      ]
    },
    {
      "cell_type": "code",
      "source": [
        "i = 0\n",
        "while i <= 10:\n",
        "  if i % 3 == 0: #print odd numbers\n",
        "    print(i, end=\" \")\n",
        "  i += 1"
      ],
      "metadata": {
        "id": "OP983MJ4Zpfu",
        "outputId": "0fd9241b-384d-491a-8560-8b7c82c7aa18",
        "colab": {
          "base_uri": "https://localhost:8080/"
        }
      },
      "execution_count": 66,
      "outputs": [
        {
          "output_type": "stream",
          "name": "stdout",
          "text": [
            "0 3 6 9 "
          ]
        }
      ]
    },
    {
      "cell_type": "code",
      "source": [
        "#Print sum of all numbers from 1 - 10\n",
        "\n",
        "#initialize\n",
        "\n",
        "i = 1\n",
        "add = 0\n",
        "\n",
        "#loop\n",
        "while i <= 10:\n",
        " # print(i, end=\" \")\n",
        "  add += i\n",
        "  print(add)\n",
        "\n",
        "\n",
        "  i += 1\n"
      ],
      "metadata": {
        "id": "6tjqNNYqeYjK",
        "outputId": "a0927ca2-2b77-4bda-b163-c0aad200ffee",
        "colab": {
          "base_uri": "https://localhost:8080/"
        }
      },
      "execution_count": 71,
      "outputs": [
        {
          "output_type": "stream",
          "name": "stdout",
          "text": [
            "1\n",
            "3\n",
            "6\n",
            "10\n",
            "15\n",
            "21\n",
            "28\n",
            "36\n",
            "45\n",
            "55\n"
          ]
        }
      ]
    },
    {
      "cell_type": "code",
      "source": [
        "#Print all the even values summed up to 10\n",
        "\n",
        "i = 1\n",
        "add = 0\n",
        "while i <= 10:\n",
        "  if i % 2 == 0:\n",
        "    add += i\n",
        "    print(add)\n",
        "  i += 1"
      ],
      "metadata": {
        "id": "t-chz_nlfvGc",
        "outputId": "6525ab48-e19a-4747-acf4-8c97e7cb3a9e",
        "colab": {
          "base_uri": "https://localhost:8080/"
        }
      },
      "execution_count": 76,
      "outputs": [
        {
          "output_type": "stream",
          "name": "stdout",
          "text": [
            "2\n",
            "6\n",
            "12\n",
            "20\n",
            "30\n"
          ]
        }
      ]
    },
    {
      "cell_type": "code",
      "source": [
        "#Print all odd values summed up to 10\n",
        "\n",
        "i = 1\n",
        "add = 0\n",
        "while i <= 10:\n",
        "  if i % 2 != 0:\n",
        "    add += i\n",
        "    print(add)\n",
        "  i += 1\n",
        ""
      ],
      "metadata": {
        "id": "0EfCgkofhtcK",
        "outputId": "be088bc5-3643-4801-93f2-edea3204f031",
        "colab": {
          "base_uri": "https://localhost:8080/"
        }
      },
      "execution_count": 81,
      "outputs": [
        {
          "output_type": "stream",
          "name": "stdout",
          "text": [
            "1\n",
            "4\n",
            "9\n",
            "16\n",
            "25\n"
          ]
        }
      ]
    },
    {
      "cell_type": "code",
      "source": [
        "#Range function\n",
        "n = 15\n",
        "list(range(n))"
      ],
      "metadata": {
        "id": "2rbCv9seiFE9",
        "outputId": "80f8b32e-be19-4101-fab1-2099656d9c0a",
        "colab": {
          "base_uri": "https://localhost:8080/"
        }
      },
      "execution_count": 85,
      "outputs": [
        {
          "output_type": "execute_result",
          "data": {
            "text/plain": [
              "[0, 1, 2, 3, 4, 5, 6, 7, 8, 9, 10, 11, 12, 13, 14]"
            ]
          },
          "metadata": {},
          "execution_count": 85
        }
      ]
    },
    {
      "cell_type": "code",
      "source": [
        "range(10)"
      ],
      "metadata": {
        "id": "jlfL3VAwjPhV",
        "outputId": "3dfe0ec1-0d84-401d-93be-a6e9f13de233",
        "colab": {
          "base_uri": "https://localhost:8080/"
        }
      },
      "execution_count": 86,
      "outputs": [
        {
          "output_type": "execute_result",
          "data": {
            "text/plain": [
              "range(0, 10)"
            ]
          },
          "metadata": {},
          "execution_count": 86
        }
      ]
    },
    {
      "cell_type": "code",
      "source": [
        "#jump by default will be 1\n",
        "list(range(0, 5))"
      ],
      "metadata": {
        "id": "xAvhwc4skA0e",
        "outputId": "634fe015-e249-4bc3-d004-e28b50c2b9f6",
        "colab": {
          "base_uri": "https://localhost:8080/"
        }
      },
      "execution_count": 89,
      "outputs": [
        {
          "output_type": "execute_result",
          "data": {
            "text/plain": [
              "[0, 1, 2, 3, 4]"
            ]
          },
          "metadata": {},
          "execution_count": 89
        }
      ]
    },
    {
      "cell_type": "code",
      "source": [
        "list(range(1,10,2))"
      ],
      "metadata": {
        "id": "C1tv0oUAkGGt",
        "outputId": "ad4f804a-8ce4-4bca-91d0-2df7cd44c9f7",
        "colab": {
          "base_uri": "https://localhost:8080/"
        }
      },
      "execution_count": 91,
      "outputs": [
        {
          "output_type": "execute_result",
          "data": {
            "text/plain": [
              "[1, 3, 5, 7, 9]"
            ]
          },
          "metadata": {},
          "execution_count": 91
        }
      ]
    },
    {
      "cell_type": "code",
      "source": [
        "list(range(10,1,-1))"
      ],
      "metadata": {
        "id": "WW0FJ452mBtm",
        "outputId": "8247899c-2a33-409c-b258-1c113d361f73",
        "colab": {
          "base_uri": "https://localhost:8080/"
        }
      },
      "execution_count": 92,
      "outputs": [
        {
          "output_type": "execute_result",
          "data": {
            "text/plain": [
              "[10, 9, 8, 7, 6, 5, 4, 3, 2]"
            ]
          },
          "metadata": {},
          "execution_count": 92
        }
      ]
    },
    {
      "cell_type": "code",
      "source": [],
      "metadata": {
        "id": "tGf8fhh2qJBo"
      },
      "execution_count": null,
      "outputs": []
    }
  ],
  "metadata": {
    "colab": {
      "name": "Prompting.ipynb",
      "provenance": [],
      "include_colab_link": true
    },
    "google": {
      "image_path": "/static/site-assets/images/docs/logo-python.svg",
      "keywords": [
        "examples",
        "gemini",
        "beginner",
        "googleai",
        "quickstart",
        "python",
        "text",
        "chat",
        "vision",
        "embed"
      ]
    },
    "kernelspec": {
      "display_name": "Python 3",
      "name": "python3"
    }
  },
  "nbformat": 4,
  "nbformat_minor": 0
}